{
 "cells": [
  {
   "cell_type": "code",
   "execution_count": 2,
   "id": "2aa97e93-2882-441c-beb7-f048e19cd2bb",
   "metadata": {},
   "outputs": [],
   "source": [
    "import sqlite3\n",
    "import pandas as pd\n",
    "import numpy as np\n",
    "from typing import Dict, Any\n",
    "from datetime import timedelta"
   ]
  },
  {
   "cell_type": "code",
   "execution_count": 3,
   "id": "d9ebbcc9-e23f-4d24-b8d1-2f9104c98c0d",
   "metadata": {},
   "outputs": [],
   "source": [
    "def connect_to_db(db_path: str) -> sqlite3.Connection:\n",
    "    \"\"\"Efficiently connect to SQLite database\"\"\"\n",
    "    return sqlite3.connect(db_path, detect_types=sqlite3.PARSE_DECLTYPES)\n",
    "\n",
    "def preprocess_datetime(df: pd.DataFrame) -> pd.DataFrame:\n",
    "    \"\"\"Central datetime preprocessing to reduce redundant operations\"\"\"\n",
    "    datetime_columns = ['创建时间', '预定日期', '下单时间']\n",
    "    for col in datetime_columns:\n",
    "        if col in df.columns:\n",
    "            if not pd.api.types.is_datetime64_any_dtype(df[col]):\n",
    "                try:\n",
    "                    df[col] = pd.to_datetime(df[col], errors='coerce')\n",
    "                except Exception as e:\n",
    "                    print(f\"转换 {col} 列时出错：{e}\")\n",
    "    return df"
   ]
  },
  {
   "cell_type": "code",
   "execution_count": 17,
   "id": "0b5a50f7-6253-4dc5-87be-c90d52c3abb4",
   "metadata": {},
   "outputs": [],
   "source": [
    "def analyze(conn):\n",
    "    \"\"\"主分析函数\"\"\"\n",
    "    catering_df = pd.read_sql_query(\"SELECT * FROM Catering\", conn)\n",
    "    \n",
    "    results = marketing_analysis(catering_df)\n",
    "    results1 = catering_df[catering_df['使用优惠'].notnull()]\n",
    "    results_top = results1['使用优惠'].head(20)\n",
    "\n",
    "    \n",
    "    def convert_df_to_dict(data):\n",
    "        if isinstance(data, pd.DataFrame):\n",
    "            return data.to_dict(orient='records')\n",
    "        return data\n",
    "\n",
    "    processed_results = {}\n",
    "    for category, data in results.items():\n",
    "        processed_results[category] = {\n",
    "            key: convert_df_to_dict(value) for key, value in data.items()\n",
    "        }\n",
    "\n",
    "    return results_top"
   ]
  },
  {
   "cell_type": "code",
   "execution_count": 5,
   "id": "86f081d5-e042-4def-aabc-d1957363f547",
   "metadata": {},
   "outputs": [],
   "source": [
    "def get_db_connection():\n",
    "    conn = sqlite3.connect('db/ideapod.db')\n",
    "    conn.row_factory = sqlite3.Row\n",
    "    return conn\n"
   ]
  },
  {
   "cell_type": "code",
   "execution_count": 6,
   "id": "35e238db-36d7-4430-962b-25bd833924ff",
   "metadata": {},
   "outputs": [],
   "source": [
    "def marketing_analysis(catering_df: pd.DataFrame) -> Dict[str, pd.DataFrame]:\n",
    "    \"\"\"营销分析保持不变\"\"\"\n",
    "    catering_df = preprocess_datetime(catering_df)\n",
    "    catering_df['订单月份'] = catering_df['下单时间'].dt.to_period('M')\n",
    "    catering_df['促销类型'] = catering_df['使用优惠'].fillna('无优惠')\n",
    "\n",
    "    promotion_analysis = catering_df.groupby(['订单月份', '促销类型']).agg(\n",
    "        订单总数=('订单号', 'count'),\n",
    "        销售收入=('实收', 'sum'),\n",
    "        平均折扣=('打折', 'mean'),\n",
    "        总折扣金额=('打折', 'sum')\n",
    "    ).reset_index()\n",
    "    promotion_analysis['订单月份'] = promotion_analysis['订单月份'].astype(str)\n",
    "\n",
    "    return {\n",
    "        '促销优惠分析（数据有误）_bar': promotion_analysis\n",
    "    }"
   ]
  },
  {
   "cell_type": "code",
   "execution_count": 18,
   "id": "d555387b-5764-49e3-b26c-d806ad6001c7",
   "metadata": {},
   "outputs": [
    {
     "name": "stdout",
     "output_type": "stream",
     "text": [
      "2              大众点评套餐\n",
      "8               洛克85折\n",
      "26             大众点评套餐\n",
      "42             大众点评套餐\n",
      "57               员工饮料\n",
      "58                 赠送\n",
      "68          众安最福利积分使用\n",
      "73             大众点评套餐\n",
      "81             场景套餐赠送\n",
      "87              员工82折\n",
      "94               员工饮料\n",
      "101              员工饮料\n",
      "124             洛克85折\n",
      "136    员工饮料,员工饮料,员工饮料\n",
      "138         众安最福利积分使用\n",
      "144         众安最福利积分使用\n",
      "145         众安最福利积分使用\n",
      "150             洛克85折\n",
      "154            大众点评套餐\n",
      "157            大众点评套餐\n",
      "Name: 使用优惠, dtype: object\n"
     ]
    }
   ],
   "source": [
    "print (analyze(get_db_connection()))"
   ]
  },
  {
   "cell_type": "code",
   "execution_count": null,
   "id": "20e31dab-49ee-44aa-bb02-dda87bc53846",
   "metadata": {},
   "outputs": [],
   "source": []
  }
 ],
 "metadata": {
  "kernelspec": {
   "display_name": "Python (math-venv)",
   "language": "python",
   "name": "math-venv"
  },
  "language_info": {
   "codemirror_mode": {
    "name": "ipython",
    "version": 3
   },
   "file_extension": ".py",
   "mimetype": "text/x-python",
   "name": "python",
   "nbconvert_exporter": "python",
   "pygments_lexer": "ipython3",
   "version": "3.13.2"
  }
 },
 "nbformat": 4,
 "nbformat_minor": 5
}
