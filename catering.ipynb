{
 "cells": [
  {
   "cell_type": "code",
   "execution_count": 1,
   "id": "2aa97e93-2882-441c-beb7-f048e19cd2bb",
   "metadata": {},
   "outputs": [],
   "source": [
    "import sqlite3\n",
    "import pandas as pd\n",
    "import numpy as np\n",
    "from typing import Dict, Any\n",
    "from datetime import timedelta"
   ]
  },
  {
   "cell_type": "code",
   "execution_count": 2,
   "id": "d9ebbcc9-e23f-4d24-b8d1-2f9104c98c0d",
   "metadata": {},
   "outputs": [],
   "source": [
    "def connect_to_db(db_path: str) -> sqlite3.Connection:\n",
    "    \"\"\"Efficiently connect to SQLite database\"\"\"\n",
    "    return sqlite3.connect(db_path, detect_types=sqlite3.PARSE_DECLTYPES)\n",
    "\n",
    "def preprocess_datetime(df: pd.DataFrame) -> pd.DataFrame:\n",
    "    \"\"\"Central datetime preprocessing to reduce redundant operations\"\"\"\n",
    "    datetime_columns = ['创建时间', '预定日期', '下单时间']\n",
    "    for col in datetime_columns:\n",
    "        if col in df.columns:\n",
    "            if not pd.api.types.is_datetime64_any_dtype(df[col]):\n",
    "                try:\n",
    "                    df[col] = pd.to_datetime(df[col], errors='coerce')\n",
    "                except Exception as e:\n",
    "                    print(f\"转换 {col} 列时出错：{e}\")\n",
    "    return df"
   ]
  },
  {
   "cell_type": "code",
   "execution_count": 3,
   "id": "86f081d5-e042-4def-aabc-d1957363f547",
   "metadata": {},
   "outputs": [],
   "source": [
    "def get_db_connection():\n",
    "    conn = sqlite3.connect('db/ideapod.db')\n",
    "    conn.row_factory = sqlite3.Row\n",
    "    return conn\n"
   ]
  },
  {
   "cell_type": "code",
   "execution_count": 7,
   "id": "0b5a50f7-6253-4dc5-87be-c90d52c3abb4",
   "metadata": {},
   "outputs": [
    {
     "name": "stdout",
     "output_type": "stream",
     "text": [
      "       会员号                下单时间 预约单预约时间        对账日期  \\\n",
      "36525  nan 2025-01-09 17:12:00    None  2025-01-09   \n",
      "\n",
      "                                订单号  \\\n",
      "36525  3479125010917120043550050020   \n",
      "\n",
      "                                                    商品 支付方式    金额    净额    实收  \\\n",
      "36525  个人「图书馆专注」3/6小时套餐（最高可省15元）x1.000,「图书馆」x 1hx1.000   微信  55.0  47.5  47.5   \n",
      "\n",
      "       ...  赠送  开票状态  服务方式  订单来源  原订单号  退单类型   下单人    备注   佣金    集点  \n",
      "36525  ...   0  None    堂食  门店点单  None  None  Dora  None  0.0  None  \n",
      "\n",
      "[1 rows x 23 columns]\n"
     ]
    }
   ],
   "source": [
    "def analyze(conn):\n",
    "    \"\"\"主分析函数\"\"\"\n",
    "    catering_df = pd.read_sql_query(\"SELECT * FROM Catering\", conn)\n",
    "\n",
    "    catering_df = preprocess_datetime(catering_df)\n",
    "    user_df= catering_df[catering_df['商品'].str.contains('图书馆')]\n",
    "\n",
    "    target_date = pd.to_datetime('2025-01-09')\n",
    "    filtered_df = user_df[user_df['下单时间'].dt.date == target_date.date()]\n",
    "\n",
    "    return filtered_df\n",
    "\n",
    "print (analyze(get_db_connection()))"
   ]
  },
  {
   "cell_type": "code",
   "execution_count": null,
   "id": "701d5501-74b3-4939-bcd2-1e6618c40353",
   "metadata": {},
   "outputs": [],
   "source": []
  }
 ],
 "metadata": {
  "kernelspec": {
   "display_name": "Python (math-venv)",
   "language": "python",
   "name": "math-venv"
  },
  "language_info": {
   "codemirror_mode": {
    "name": "ipython",
    "version": 3
   },
   "file_extension": ".py",
   "mimetype": "text/x-python",
   "name": "python",
   "nbconvert_exporter": "python",
   "pygments_lexer": "ipython3",
   "version": "3.13.2"
  }
 },
 "nbformat": 4,
 "nbformat_minor": 5
}
