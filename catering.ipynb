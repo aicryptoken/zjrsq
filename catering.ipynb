{
 "cells": [
  {
   "cell_type": "code",
   "execution_count": 1,
   "id": "2aa97e93-2882-441c-beb7-f048e19cd2bb",
   "metadata": {},
   "outputs": [],
   "source": [
    "import sqlite3\n",
    "import pandas as pd\n",
    "import numpy as np\n",
    "from typing import Dict, Any\n",
    "from datetime import timedelta"
   ]
  },
  {
   "cell_type": "code",
   "execution_count": 2,
   "id": "d9ebbcc9-e23f-4d24-b8d1-2f9104c98c0d",
   "metadata": {},
   "outputs": [],
   "source": [
    "def connect_to_db(db_path: str) -> sqlite3.Connection:\n",
    "    \"\"\"Efficiently connect to SQLite database\"\"\"\n",
    "    return sqlite3.connect(db_path, detect_types=sqlite3.PARSE_DECLTYPES)\n",
    "\n",
    "def preprocess_datetime(df: pd.DataFrame) -> pd.DataFrame:\n",
    "    \"\"\"Central datetime preprocessing to reduce redundant operations\"\"\"\n",
    "    datetime_columns = ['创建时间', '预定日期', '下单时间']\n",
    "    for col in datetime_columns:\n",
    "        if col in df.columns:\n",
    "            if not pd.api.types.is_datetime64_any_dtype(df[col]):\n",
    "                try:\n",
    "                    df[col] = pd.to_datetime(df[col], errors='coerce')\n",
    "                except Exception as e:\n",
    "                    print(f\"转换 {col} 列时出错：{e}\")\n",
    "    return df"
   ]
  },
  {
   "cell_type": "code",
   "execution_count": 3,
   "id": "86f081d5-e042-4def-aabc-d1957363f547",
   "metadata": {},
   "outputs": [],
   "source": [
    "def get_db_connection():\n",
    "    conn = sqlite3.connect('db/ideapod.db')\n",
    "    conn.row_factory = sqlite3.Row\n",
    "    return conn\n"
   ]
  },
  {
   "cell_type": "code",
   "execution_count": 22,
   "id": "0b5a50f7-6253-4dc5-87be-c90d52c3abb4",
   "metadata": {},
   "outputs": [],
   "source": [
    "def analyze(conn):\n",
    "    \"\"\"主分析函数\"\"\"\n",
    "    catering_df = pd.read_sql_query(\"SELECT * FROM Catering\", conn)\n",
    "\n",
    "    catering_df = preprocess_datetime(catering_df)\n",
    "    user_df= catering_df[catering_df['商品'].str.contains('图书馆')]\n",
    "\n",
    "    target_date = pd.to_datetime('2024-07-14')\n",
    "    filtered_df = user_df[user_df['下单时间'].dt.date == target_date.date()]\n",
    "\n",
    "    product_df = product_analysis(catering_df, conn)\n",
    "\n",
    "    return product_df"
   ]
  },
  {
   "cell_type": "code",
   "execution_count": 23,
   "id": "d555387b-5764-49e3-b26c-d806ad6001c7",
   "metadata": {},
   "outputs": [
    {
     "name": "stdout",
     "output_type": "stream",
     "text": [
      "  product  quantity                订单日期 商品名 基础产品\n",
      "0       1       1.0 2024-07-14 16:54:25   1   其他\n"
     ]
    }
   ],
   "source": [
    "print (analyze(get_db_connection()))"
   ]
  },
  {
   "cell_type": "code",
   "execution_count": 26,
   "id": "35e238db-36d7-4430-962b-25bd833924ff",
   "metadata": {},
   "outputs": [],
   "source": [
    "def product_analysis(catering_df: pd.DataFrame, conn) -> dict:\n",
    "    \"\"\"\n",
    "    商品分析：产品周度销售分析，筛选前20个基础产品，按周输出销售数量\n",
    "    \"\"\"\n",
    "    product_df = pd.read_sql_query(\"SELECT * FROM Product\", conn)\n",
    "\n",
    "    def parse_products(product_str, order_date):\n",
    "        try:\n",
    "            products = product_str.split(',')\n",
    "            parsed_products = []\n",
    "            for p in products:\n",
    "                parts = p.split('x')\n",
    "                if len(parts) == 2:\n",
    "                    product_name = parts[0].strip()\n",
    "                    quantity = float(parts[1].strip())\n",
    "                    parsed_products.append({'product': product_name, 'quantity': quantity, '订单日期': order_date})\n",
    "            return pd.DataFrame(parsed_products)\n",
    "        except Exception as e:\n",
    "            print(f\"解析商品字符串时出错: {e}\")\n",
    "            return pd.DataFrame()\n",
    "\n",
    "    # 解析商品并合并基础产品信息\n",
    "    \n",
    "    product_analysis = catering_df[['商品', '下单时间']].apply(lambda x: parse_products(x['商品'], x['下单时间']), axis=1)\n",
    "    \n",
    "    product_sales = pd.concat(product_analysis.tolist(), ignore_index=True)    \n",
    "    product_sales = pd.merge(product_sales, product_df[['商品名', '基础产品']], \n",
    "                            left_on='product', right_on='商品名', how='left')\n",
    "    # 检查是否有未匹配的商品名\n",
    "    unmatched_products = product_sales[product_sales['商品名'].isna()]['product'].unique()\n",
    "    \n",
    "    if len(unmatched_products) > 0:\n",
    "        # 将新的商品名保存到文件\n",
    "        new_products_df = pd.DataFrame({'product': unmatched_products})\n",
    "        new_products_df.to_csv('db/ideapod_product_new.csv', index=False, encoding='utf-8-sig')\n",
    "        print(f\"发现 {len(unmatched_products)} 个新商品名，已保存到 db/ideapod_product_new.csv\")\n",
    "        print(\"程序已暂停执行，请处理新商品后重新运行\")\n",
    "        # 使用 sys.exit() 暂停程序执行，如果不想完全退出也可以用其他方式\n",
    "        import sys\n",
    "        sys.exit(1)\n",
    "    else: print (\"没有新商品名\")\n",
    "    \n",
    "    output = product_sales\n",
    "    \n",
    "    # 计算总销售量并筛选前20个基础产品\n",
    "    top_products = product_sales.groupby('基础产品')['quantity'].sum().nlargest(20).index\n",
    "    product_sales = product_sales[product_sales['基础产品'].isin(top_products)]\n",
    "    \n",
    "    # 添加周标识\n",
    "    product_sales['订单周'] = product_sales['订单日期'].dt.to_period('W-MON').apply(lambda x: x.start_time.date())\n",
    "    \n",
    "    # 按周和基础产品统计销售数量\n",
    "    weekly_product_sales = product_sales.groupby(['订单周', '基础产品']).agg(\n",
    "        周销售数量=('quantity', 'sum')\n",
    "    ).unstack(fill_value=0)\n",
    "    weekly_product_sales.columns = [col[1] for col in weekly_product_sales.columns]\n",
    "    weekly_product_sales = weekly_product_sales.reset_index()\n",
    "    weekly_product_sales['订单周'] = weekly_product_sales['订单周'].astype(str)\n",
    "\n",
    "    return output"
   ]
  },
  {
   "cell_type": "code",
   "execution_count": 27,
   "id": "20e31dab-49ee-44aa-bb02-dda87bc53846",
   "metadata": {},
   "outputs": [
    {
     "name": "stdout",
     "output_type": "stream",
     "text": [
      "发现 44 个新商品名，已保存到 db/ideapod_product_new.csv\n",
      "程序已暂停执行，请处理新商品后重新运行\n"
     ]
    },
    {
     "ename": "SystemExit",
     "evalue": "1",
     "output_type": "error",
     "traceback": [
      "An exception has occurred, use %tb to see the full traceback.\n",
      "\u001b[31mSystemExit\u001b[39m\u001b[31m:\u001b[39m 1\n"
     ]
    },
    {
     "name": "stderr",
     "output_type": "stream",
     "text": [
      "/Users/Yixin/Documents/Projects/math-env/lib/python3.13/site-packages/IPython/core/interactiveshell.py:3557: UserWarning: To exit: use 'exit', 'quit', or Ctrl-D.\n",
      "  warn(\"To exit: use 'exit', 'quit', or Ctrl-D.\", stacklevel=1)\n"
     ]
    }
   ],
   "source": [
    "print (analyze(get_db_connection()))"
   ]
  },
  {
   "cell_type": "code",
   "execution_count": null,
   "id": "701d5501-74b3-4939-bcd2-1e6618c40353",
   "metadata": {},
   "outputs": [],
   "source": []
  }
 ],
 "metadata": {
  "kernelspec": {
   "display_name": "Python (math-venv)",
   "language": "python",
   "name": "math-venv"
  },
  "language_info": {
   "codemirror_mode": {
    "name": "ipython",
    "version": 3
   },
   "file_extension": ".py",
   "mimetype": "text/x-python",
   "name": "python",
   "nbconvert_exporter": "python",
   "pygments_lexer": "ipython3",
   "version": "3.13.2"
  }
 },
 "nbformat": 4,
 "nbformat_minor": 5
}
